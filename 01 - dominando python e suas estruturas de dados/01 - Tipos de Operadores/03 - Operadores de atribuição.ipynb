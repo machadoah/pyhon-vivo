{
 "cells": [
  {
   "cell_type": "markdown",
   "metadata": {},
   "source": [
    "**Operadores de atribuição**"
   ]
  },
  {
   "cell_type": "code",
   "execution_count": null,
   "metadata": {},
   "outputs": [],
   "source": [
    "# atribuição simples\n",
    "saldo = 500\n",
    "\n",
    "print(saldo)"
   ]
  },
  {
   "cell_type": "code",
   "execution_count": null,
   "metadata": {},
   "outputs": [],
   "source": [
    "# atribuição com adição\n",
    "saldo += 200\n",
    "\n",
    "print(saldo)"
   ]
  },
  {
   "cell_type": "code",
   "execution_count": null,
   "metadata": {},
   "outputs": [],
   "source": [
    "# atribuição com subtração\n",
    "saldo -= 100\n",
    "\n",
    "print(saldo)"
   ]
  },
  {
   "cell_type": "code",
   "execution_count": null,
   "metadata": {},
   "outputs": [],
   "source": [
    "# atribuição com multiplicacão\n",
    "saldo *= 2\n",
    "\n",
    "print(saldo)"
   ]
  },
  {
   "cell_type": "code",
   "execution_count": null,
   "metadata": {},
   "outputs": [],
   "source": [
    "# atribuição com divisão\n",
    "saldo /= 2\n",
    "print(saldo)\n",
    "\n",
    "saldo //= 2\n",
    "print(saldo)"
   ]
  },
  {
   "cell_type": "code",
   "execution_count": null,
   "metadata": {},
   "outputs": [],
   "source": [
    "# atribuição com módulo\n",
    "saldo %= 200\n",
    "\n",
    "print(saldo)"
   ]
  },
  {
   "cell_type": "code",
   "execution_count": null,
   "metadata": {},
   "outputs": [],
   "source": [
    "# atribuição com exponenciação\n",
    "saldo **= 2\n",
    "\n",
    "print(saldo)"
   ]
  }
 ],
 "metadata": {
  "kernelspec": {
   "display_name": "study-fastapi",
   "language": "python",
   "name": "python3"
  },
  "language_info": {
   "codemirror_mode": {
    "name": "ipython",
    "version": 3
   },
   "file_extension": ".py",
   "mimetype": "text/x-python",
   "name": "python",
   "nbconvert_exporter": "python",
   "pygments_lexer": "ipython3",
   "version": "3.11.9"
  }
 },
 "nbformat": 4,
 "nbformat_minor": 2
}
