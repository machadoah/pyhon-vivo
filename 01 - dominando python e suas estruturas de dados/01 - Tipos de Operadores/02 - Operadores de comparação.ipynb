{
 "cells": [
  {
   "cell_type": "markdown",
   "metadata": {},
   "source": [
    "**operadores de comparação**"
   ]
  },
  {
   "cell_type": "markdown",
   "metadata": {},
   "source": [
    "| Simbolo | Operação |\n",
    "| --- | --- |\n",
    "| == | Igualdade |\n",
    "| != | Diferença |\n",
    "| > | Maior que |\n",
    "| >= | Maior ou igual |\n",
    "| < | Menor que |\n",
    "| <>= | Menor ou igual |"
   ]
  },
  {
   "cell_type": "code",
   "execution_count": null,
   "metadata": {},
   "outputs": [],
   "source": [
    "# valores\n",
    "saldo = 450\n",
    "saque = 200"
   ]
  },
  {
   "cell_type": "code",
   "execution_count": null,
   "metadata": {},
   "outputs": [],
   "source": [
    "# igualdade\n",
    "saldo == saque"
   ]
  },
  {
   "cell_type": "code",
   "execution_count": null,
   "metadata": {},
   "outputs": [],
   "source": [
    "#diferença\n",
    "saldo != saque"
   ]
  },
  {
   "cell_type": "code",
   "execution_count": null,
   "metadata": {},
   "outputs": [],
   "source": [
    "# maior que / maior ou igual\n",
    "print(saldo > saque)\n",
    "print(saldo >= saque)"
   ]
  },
  {
   "cell_type": "code",
   "execution_count": null,
   "metadata": {},
   "outputs": [],
   "source": [
    "# menor que / menor ou igual\n",
    "print(saldo < saque)\n",
    "print(saldo <= saque)"
   ]
  }
 ],
 "metadata": {
  "kernelspec": {
   "display_name": "study-fastapi",
   "language": "python",
   "name": "python3"
  },
  "language_info": {
   "codemirror_mode": {
    "name": "ipython",
    "version": 3
   },
   "file_extension": ".py",
   "mimetype": "text/x-python",
   "name": "python",
   "nbconvert_exporter": "python",
   "pygments_lexer": "ipython3",
   "version": "3.11.9"
  }
 },
 "nbformat": 4,
 "nbformat_minor": 2
}
